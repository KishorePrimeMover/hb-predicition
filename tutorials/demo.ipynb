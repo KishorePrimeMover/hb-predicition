{
 "cells": [
  {
   "cell_type": "code",
   "execution_count": 35,
   "metadata": {},
   "outputs": [
    {
     "name": "stdout",
     "output_type": "stream",
     "text": [
      "Mean Squared Error: 0.11798888888888877\n",
      "R^2 Score: 0.9959087756849315\n",
      "Sample 1: Predicted label: 11.73, Confidence (std dev): 0.4659399102888698\n",
      "Sample 2: Predicted label: 16.34, Confidence (std dev): 0.4737087712930804\n",
      "Sample 3: Predicted label: 7.9, Confidence (std dev): 0.3872983346207417\n"
     ]
    }
   ],
   "source": [
    "import numpy as np\n",
    "import pandas as pd\n",
    "from sklearn.ensemble import RandomForestRegressor\n",
    "from sklearn.metrics import mean_squared_error, r2_score\n",
    "from sklearn.model_selection import train_test_split\n",
    "\n",
    "# Load data from a TSV file\n",
    "\n",
    "\n",
    "file_path = '/home/venkat/Projects/workbook/hb-predicition/data/readings.tsv'\n",
    "data = pd.read_csv(file_path, sep=',')\n",
    "\n",
    "# Assuming the data columns are 'label' and 'reading'\n",
    "X = data[['reading']]  # features (independent variables)\n",
    "y = data['label']  # target variable\n",
    "\n",
    "# Split the data into training and testing sets\n",
    "X_train, X_test, y_train, y_test = train_test_split(X, y, test_size=0.2, random_state=42)\n",
    "\n",
    "# Initialize the Random Forest Regressor\n",
    "rf_regressor = RandomForestRegressor(n_estimators=100, random_state=42)\n",
    "\n",
    "# Train the model\n",
    "rf_regressor.fit(X_train, y_train)\n",
    "\n",
    "# Predict on the test set\n",
    "y_pred = rf_regressor.predict(X_test)\n",
    "\n",
    "# Evaluate the model\n",
    "mse = mean_squared_error(y_test, y_pred)\n",
    "r2 = r2_score(y_test, y_pred)\n",
    "\n",
    "print(\"Mean Squared Error:\", mse)\n",
    "print(\"R^2 Score:\", r2)\n",
    "\n",
    "def predict_with_confidence(model, samples):\n",
    "    \"\"\"\n",
    "    Predict the labels for a given array of samples and estimate the confidence.\n",
    "\n",
    "    Parameters:\n",
    "    model: Trained Random Forest Regressor\n",
    "    samples: An array of sample values for which to predict the labels\n",
    "\n",
    "    Returns:\n",
    "    A list of tuples, each containing the predicted label and the standard deviation\n",
    "    of the predictions from individual trees as a measure of uncertainty for each sample.\n",
    "    \"\"\"\n",
    "    results = []\n",
    "    \n",
    "    for sample in samples:\n",
    "        # Convert the sample to a 2D array (if it is not already)\n",
    "        if np.isscalar(sample):\n",
    "            sample = np.array([[sample]])\n",
    "\n",
    "        # Predict using all trees\n",
    "        predictions = np.array([tree.predict(sample) for tree in model.estimators_])\n",
    "\n",
    "        # Calculate the mean prediction and standard deviation\n",
    "        mean_prediction = np.mean(predictions)\n",
    "        std_deviation = np.std(predictions)\n",
    "\n",
    "        results.append((mean_prediction, std_deviation))\n",
    "\n",
    "    return results\n",
    "\n",
    "# Example usage\n",
    "sample_values = [19822, 15479, 24863]  # Replace with your array of sample values\n",
    "predictions = predict_with_confidence(rf_regressor, sample_values)\n",
    "\n",
    "for i, (label, confidence) in enumerate(predictions):\n",
    "    print(f\"Sample {i+1}: Predicted label: {label}, Confidence (std dev): {confidence}\")\n"
   ]
  },
  {
   "cell_type": "code",
   "execution_count": 45,
   "metadata": {},
   "outputs": [
    {
     "name": "stdout",
     "output_type": "stream",
     "text": [
      "Predicted label: 11.75148179916318, Confidence Interval: (11.675433535472264, 11.827530062854096)\n"
     ]
    },
    {
     "name": "stderr",
     "output_type": "stream",
     "text": [
      "/home/venkat/Projects/workbook/hb-predicition/.venv/lib/python3.10/site-packages/sklearn/base.py:465: UserWarning: X does not have valid feature names, but PolynomialFeatures was fitted with feature names\n",
      "  warnings.warn(\n"
     ]
    }
   ],
   "source": [
    "from sklearn.linear_model import LinearRegression\n",
    "from sklearn.preprocessing import PolynomialFeatures\n",
    "from sklearn.metrics import mean_squared_error\n",
    "import numpy as np\n",
    "import pandas as pd\n",
    "import scipy.stats as stats\n",
    "\n",
    "file_path = '/home/venkat/Projects/workbook/hb-predicition/data/readings.tsv'\n",
    "data = pd.read_csv(file_path, sep=',')\n",
    "\n",
    "# Define the degree of the polynomial model\n",
    "degree = 3  # You can adjust this based on your data\n",
    "\n",
    "# Transform features into polynomial features\n",
    "poly_features = PolynomialFeatures(degree=degree)\n",
    "X_poly = poly_features.fit_transform(data[['reading']])\n",
    "\n",
    "# Fit a linear regression model\n",
    "model = LinearRegression()\n",
    "model.fit(X_poly, data['label'])\n",
    "\n",
    "# Function to make predictions and compute prediction intervals\n",
    "def predict_with_interval(model, poly_features, x_new, confidence=0.95):\n",
    "    # Transform the new sample to polynomial features\n",
    "    x_new_poly = poly_features.transform(np.array([[x_new]]))\n",
    "    \n",
    "    # Predict\n",
    "    y_new_pred = model.predict(x_new_poly)[0]\n",
    "\n",
    "    # Compute the standard error and prediction interval\n",
    "    sum_errors = np.sum((model.predict(X_poly) - data['label'])**2)\n",
    "    residual_std_error = np.sqrt(sum_errors / (len(X_poly) - degree - 1))\n",
    "    \n",
    "    mean_x = np.mean(data['reading'])\n",
    "    n = len(data)\n",
    "    t_value = stats.t.ppf((1 + confidence) / 2, df=n - 2)\n",
    "    interval = t_value * residual_std_error * np.sqrt(1/n + (x_new - mean_x)**2 / np.sum((data['reading'] - mean_x)**2))\n",
    "    \n",
    "    return y_new_pred, (y_new_pred - interval, y_new_pred + interval)\n",
    "\n",
    "# Example usage\n",
    "sample_reading = 19822  # Replace with your sample value\n",
    "predicted_label, confidence_interval = predict_with_interval(model, poly_features, sample_reading)\n",
    "print(f\"Predicted label: {predicted_label}, Confidence Interval: {confidence_interval}\")\n"
   ]
  },
  {
   "cell_type": "code",
   "execution_count": 44,
   "metadata": {},
   "outputs": [
    {
     "name": "stderr",
     "output_type": "stream",
     "text": [
      "/home/venkat/Projects/workbook/hb-predicition/.venv/lib/python3.10/site-packages/sklearn/base.py:465: UserWarning: X does not have valid feature names, but RandomForestClassifier was fitted with feature names\n",
      "  warnings.warn(\n"
     ]
    },
    {
     "data": {
      "text/plain": [
       "array([[0.  , 0.  , 0.  , 0.  , 0.  , 0.  , 0.  , 0.  , 0.28, 0.71, 0.01,\n",
       "        0.  , 0.  , 0.  , 0.  , 0.  , 0.  , 0.  , 0.  ]])"
      ]
     },
     "execution_count": 44,
     "metadata": {},
     "output_type": "execute_result"
    }
   ],
   "source": [
    "from sklearn.ensemble import RandomForestClassifier\n",
    "from sklearn.model_selection import train_test_split\n",
    "import pandas as pd\n",
    "\n",
    "file_path = '/home/venkat/Projects/workbook/hb-predicition/data/readings.tsv'\n",
    "data = pd.read_csv(file_path, sep=',')\n",
    "\n",
    "# Convert labels to discrete classes if not already\n",
    "# data['label'] = pd.cut(data['label'], bins, labels=class_labels) # Optional: Use if you need to discretize\n",
    "\n",
    "X = data[['reading']]\n",
    "y = data['label']\n",
    "\n",
    "# Split the data\n",
    "X_train, X_test, y_train, y_test = train_test_split(X, y, test_size=0.2, random_state=42)\n",
    "\n",
    "# Initialize and train the classifier\n",
    "clf = RandomForestClassifier(random_state=42)\n",
    "clf.fit(X_train, y_train)\n",
    "\n",
    "# Predict probabilities for a new sample\n",
    "sample_reading = [[19822]]  # Replace with your sample value\n",
    "confidence_scores = clf.predict_proba(sample_reading)\n",
    "\n",
    "confidence_scores"
   ]
  },
  {
   "cell_type": "code",
   "execution_count": null,
   "metadata": {},
   "outputs": [],
   "source": []
  }
 ],
 "metadata": {
  "kernelspec": {
   "display_name": ".venv",
   "language": "python",
   "name": "python3"
  },
  "language_info": {
   "codemirror_mode": {
    "name": "ipython",
    "version": 3
   },
   "file_extension": ".py",
   "mimetype": "text/x-python",
   "name": "python",
   "nbconvert_exporter": "python",
   "pygments_lexer": "ipython3",
   "version": "3.10.12"
  }
 },
 "nbformat": 4,
 "nbformat_minor": 2
}
